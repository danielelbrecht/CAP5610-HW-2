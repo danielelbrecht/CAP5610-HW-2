{
  "nbformat": 4,
  "nbformat_minor": 0,
  "metadata": {
    "colab": {
      "name": "CAP5610_HW2_bestModel.ipynb",
      "version": "0.3.2",
      "provenance": [],
      "include_colab_link": true
    },
    "kernelspec": {
      "name": "python3",
      "display_name": "Python 3"
    }
  },
  "cells": [
    {
      "cell_type": "markdown",
      "metadata": {
        "id": "view-in-github",
        "colab_type": "text"
      },
      "source": [
        "<a href=\"https://colab.research.google.com/github/danielelbrecht/CAP5610-HW-2/blob/master/CAP5610_HW2_bestModel.ipynb\" target=\"_parent\"><img src=\"https://colab.research.google.com/assets/colab-badge.svg\" alt=\"Open In Colab\"/></a>"
      ]
    },
    {
      "metadata": {
        "id": "-jCM5SO1naJ9",
        "colab_type": "text"
      },
      "cell_type": "markdown",
      "source": [
        "# Train best model on all train data, then evaluate on test data.  Base model performed best, adding one more dropout layer to reduce overfitting"
      ]
    },
    {
      "metadata": {
        "id": "zZq5_c2ZnhY0",
        "colab_type": "code",
        "colab": {}
      },
      "cell_type": "code",
      "source": [
        "from keras.datasets import cifar10\n",
        "import numpy as np\n",
        "import sklearn\n",
        "import tensorflow as tf\n",
        "from tensorflow.keras import layers, utils"
      ],
      "execution_count": 0,
      "outputs": []
    },
    {
      "metadata": {
        "id": "DWt7Mfwp8TAQ",
        "colab_type": "code",
        "colab": {}
      },
      "cell_type": "code",
      "source": [
        "(train_images, train_labels), (test_images, test_labels) = cifar10.load_data()"
      ],
      "execution_count": 0,
      "outputs": []
    },
    {
      "metadata": {
        "id": "ZMQncPpA8VDp",
        "colab_type": "code",
        "colab": {}
      },
      "cell_type": "code",
      "source": [
        "# Preprocess data\n",
        "train_images = train_images.reshape((50000, 32, 32, 3)) / 255.0\n",
        "test_images = test_images.reshape((10000, 32, 32, 3)) / 255.0\n",
        "\n",
        "train_labels_categorical = utils.to_categorical(train_labels, num_classes=10, dtype='float32')\n",
        "test_labels_categorical = utils.to_categorical(test_labels, num_classes=10, dtype='float32')"
      ],
      "execution_count": 0,
      "outputs": []
    },
    {
      "metadata": {
        "id": "fo3IdqRN8Yed",
        "colab_type": "code",
        "colab": {
          "base_uri": "https://localhost:8080/",
          "height": 632
        },
        "outputId": "465c56b1-b190-48db-c2f0-5e8fee67581b"
      },
      "cell_type": "code",
      "source": [
        "#Define model\n",
        "\n",
        "model = tf.keras.Sequential()\n",
        "\n",
        "# First convolutional module\n",
        "model.add(layers.Conv2D(filters=64, kernel_size=(3,3), activation='relu', input_shape=(32,32,3)))\n",
        "model.add(layers.MaxPooling2D(pool_size=(2,2)))\n",
        "model.add(layers.Dropout(0.25))\n",
        "\n",
        "# Second convolutional module\n",
        "model.add(layers.Conv2D(filters=128, kernel_size=(3,3), activation='relu'))\n",
        "model.add(layers.MaxPooling2D(pool_size=(2,2)))\n",
        "model.add(layers.Dropout(0.25))\n",
        "\n",
        "\n",
        "# Fully connected layers\n",
        "model.add(layers.Flatten())\n",
        "model.add(layers.Dense(64, activation='relu'))\n",
        "model.add(layers.Dropout(0.25))\n",
        "model.add(layers.Dense(64, activation='relu'))\n",
        "model.add(layers.Dense(10, activation='softmax'))\n",
        "\n",
        "model.compile(optimizer='rmsprop',\n",
        "              loss='categorical_crossentropy',\n",
        "              metrics=['accuracy'])\n",
        "\n",
        "model.summary()"
      ],
      "execution_count": 6,
      "outputs": [
        {
          "output_type": "stream",
          "text": [
            "WARNING:tensorflow:From /usr/local/lib/python3.6/dist-packages/tensorflow/python/ops/resource_variable_ops.py:435: colocate_with (from tensorflow.python.framework.ops) is deprecated and will be removed in a future version.\n",
            "Instructions for updating:\n",
            "Colocations handled automatically by placer.\n",
            "WARNING:tensorflow:From /usr/local/lib/python3.6/dist-packages/tensorflow/python/keras/layers/core.py:143: calling dropout (from tensorflow.python.ops.nn_ops) with keep_prob is deprecated and will be removed in a future version.\n",
            "Instructions for updating:\n",
            "Please use `rate` instead of `keep_prob`. Rate should be set to `rate = 1 - keep_prob`.\n",
            "_________________________________________________________________\n",
            "Layer (type)                 Output Shape              Param #   \n",
            "=================================================================\n",
            "conv2d (Conv2D)              (None, 30, 30, 64)        1792      \n",
            "_________________________________________________________________\n",
            "max_pooling2d (MaxPooling2D) (None, 15, 15, 64)        0         \n",
            "_________________________________________________________________\n",
            "dropout (Dropout)            (None, 15, 15, 64)        0         \n",
            "_________________________________________________________________\n",
            "conv2d_1 (Conv2D)            (None, 13, 13, 128)       73856     \n",
            "_________________________________________________________________\n",
            "max_pooling2d_1 (MaxPooling2 (None, 6, 6, 128)         0         \n",
            "_________________________________________________________________\n",
            "dropout_1 (Dropout)          (None, 6, 6, 128)         0         \n",
            "_________________________________________________________________\n",
            "flatten (Flatten)            (None, 4608)              0         \n",
            "_________________________________________________________________\n",
            "dense (Dense)                (None, 64)                294976    \n",
            "_________________________________________________________________\n",
            "dropout_2 (Dropout)          (None, 64)                0         \n",
            "_________________________________________________________________\n",
            "dense_1 (Dense)              (None, 64)                4160      \n",
            "_________________________________________________________________\n",
            "dense_2 (Dense)              (None, 10)                650       \n",
            "=================================================================\n",
            "Total params: 375,434\n",
            "Trainable params: 375,434\n",
            "Non-trainable params: 0\n",
            "_________________________________________________________________\n"
          ],
          "name": "stdout"
        }
      ]
    },
    {
      "metadata": {
        "id": "1L0x811P8cp_",
        "colab_type": "code",
        "colab": {
          "base_uri": "https://localhost:8080/",
          "height": 785
        },
        "outputId": "d53cc02b-48ea-41bf-b6c4-70dad18a4cbf"
      },
      "cell_type": "code",
      "source": [
        "\n",
        "# Train model\n",
        "history = model.fit(train_images, \n",
        "                      train_labels_categorical, \n",
        "                      epochs=20,\n",
        "                      validation_data=(test_images, test_labels_categorical))"
      ],
      "execution_count": 8,
      "outputs": [
        {
          "output_type": "stream",
          "text": [
            "Train on 50000 samples, validate on 10000 samples\n",
            "WARNING:tensorflow:From /usr/local/lib/python3.6/dist-packages/tensorflow/python/ops/math_ops.py:3066: to_int32 (from tensorflow.python.ops.math_ops) is deprecated and will be removed in a future version.\n",
            "Instructions for updating:\n",
            "Use tf.cast instead.\n",
            "Epoch 1/20\n",
            "50000/50000 [==============================] - 204s 4ms/sample - loss: 1.6180 - acc: 0.4120 - val_loss: 1.2455 - val_acc: 0.5508\n",
            "Epoch 2/20\n",
            "50000/50000 [==============================] - 203s 4ms/sample - loss: 1.2552 - acc: 0.5571 - val_loss: 1.1484 - val_acc: 0.6006\n",
            "Epoch 3/20\n",
            "50000/50000 [==============================] - 203s 4ms/sample - loss: 1.1328 - acc: 0.6045 - val_loss: 1.0116 - val_acc: 0.6538\n",
            "Epoch 4/20\n",
            "50000/50000 [==============================] - 203s 4ms/sample - loss: 1.0617 - acc: 0.6312 - val_loss: 0.9739 - val_acc: 0.6678\n",
            "Epoch 5/20\n",
            "50000/50000 [==============================] - 202s 4ms/sample - loss: 1.0107 - acc: 0.6543 - val_loss: 1.1106 - val_acc: 0.6185\n",
            "Epoch 6/20\n",
            "50000/50000 [==============================] - 203s 4ms/sample - loss: 0.9822 - acc: 0.6628 - val_loss: 1.0535 - val_acc: 0.6484\n",
            "Epoch 7/20\n",
            "50000/50000 [==============================] - 203s 4ms/sample - loss: 0.9683 - acc: 0.6699 - val_loss: 1.0232 - val_acc: 0.6640\n",
            "Epoch 8/20\n",
            "50000/50000 [==============================] - 203s 4ms/sample - loss: 0.9503 - acc: 0.6759 - val_loss: 0.9247 - val_acc: 0.6846\n",
            "Epoch 9/20\n",
            "50000/50000 [==============================] - 203s 4ms/sample - loss: 0.9363 - acc: 0.6855 - val_loss: 0.9456 - val_acc: 0.6821\n",
            "Epoch 10/20\n",
            "50000/50000 [==============================] - 202s 4ms/sample - loss: 0.9314 - acc: 0.6856 - val_loss: 0.8872 - val_acc: 0.7057\n",
            "Epoch 11/20\n",
            "50000/50000 [==============================] - 202s 4ms/sample - loss: 0.9256 - acc: 0.6875 - val_loss: 0.9087 - val_acc: 0.6954\n",
            "Epoch 12/20\n",
            "50000/50000 [==============================] - 203s 4ms/sample - loss: 0.9269 - acc: 0.6894 - val_loss: 0.9702 - val_acc: 0.6732\n",
            "Epoch 13/20\n",
            "50000/50000 [==============================] - 201s 4ms/sample - loss: 0.9249 - acc: 0.6866 - val_loss: 1.0159 - val_acc: 0.6547\n",
            "Epoch 14/20\n",
            "50000/50000 [==============================] - 202s 4ms/sample - loss: 0.9370 - acc: 0.6853 - val_loss: 0.9114 - val_acc: 0.6994\n",
            "Epoch 15/20\n",
            "50000/50000 [==============================] - 204s 4ms/sample - loss: 0.9352 - acc: 0.6883 - val_loss: 0.9832 - val_acc: 0.6654\n",
            "Epoch 16/20\n",
            "50000/50000 [==============================] - 201s 4ms/sample - loss: 0.9538 - acc: 0.6830 - val_loss: 0.9990 - val_acc: 0.6764\n",
            "Epoch 17/20\n",
            "50000/50000 [==============================] - 203s 4ms/sample - loss: 0.9592 - acc: 0.6794 - val_loss: 1.1924 - val_acc: 0.5930\n",
            "Epoch 18/20\n",
            "50000/50000 [==============================] - 201s 4ms/sample - loss: 0.9706 - acc: 0.6768 - val_loss: 0.9065 - val_acc: 0.7015\n",
            "Epoch 19/20\n",
            "50000/50000 [==============================] - 201s 4ms/sample - loss: 0.9713 - acc: 0.6772 - val_loss: 1.1765 - val_acc: 0.6015\n",
            "Epoch 20/20\n",
            "50000/50000 [==============================] - 201s 4ms/sample - loss: 0.9754 - acc: 0.6773 - val_loss: 0.8945 - val_acc: 0.7011\n"
          ],
          "name": "stdout"
        }
      ]
    },
    {
      "metadata": {
        "id": "lgluPT78MxIF",
        "colab_type": "code",
        "colab": {
          "base_uri": "https://localhost:8080/",
          "height": 376
        },
        "outputId": "c12d58e4-9f13-4c76-fc3f-0909f2f0577e"
      },
      "cell_type": "code",
      "source": [
        "#plot results\n",
        "import matplotlib as mpl\n",
        "import matplotlib.pyplot as plt\n",
        "\n",
        "epoch = []\n",
        "for i in range(20):\n",
        "  epoch.append(i+1)\n",
        "  \n",
        "plt.plot(epoch, history.history['val_acc'], label='Validation accuracy')\n",
        "plt.plot(epoch, history.history['acc'], label='Training accuracy')\n",
        "plt.xlabel(\"# of epochs\")\n",
        "plt.ylabel(\"Accuracy\")\n",
        "plt.title(\"Results for model 3\")\n",
        "plt.legend(loc=\"upper left\", fontsize=16)\n",
        "plt.show()"
      ],
      "execution_count": 9,
      "outputs": [
        {
          "output_type": "display_data",
          "data": {
            "image/png": "[encoded data removed]",
            "text/plain": [
              "<Figure size 576x396 with 1 Axes>"
            ]
          },
          "metadata": {
            "tags": []
          }
        }
      ]
    }
  ]
}