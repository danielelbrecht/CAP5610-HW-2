{
  "nbformat": 4,
  "nbformat_minor": 0,
  "metadata": {
    "colab": {
      "name": "CAP5610_HW2_model4.ipynb",
      "version": "0.3.2",
      "provenance": [],
      "include_colab_link": true
    },
    "kernelspec": {
      "name": "python3",
      "display_name": "Python 3"
    }
  },
  "cells": [
    {
      "cell_type": "markdown",
      "metadata": {
        "id": "view-in-github",
        "colab_type": "text"
      },
      "source": [
        "<a href=\"https://colab.research.google.com/github/danielelbrecht/CAP5610-HW-2/blob/master/CAP5610_HW2_model4.ipynb\" target=\"_parent\"><img src=\"https://colab.research.google.com/assets/colab-badge.svg\" alt=\"Open In Colab\"/></a>"
      ]
    },
    {
      "metadata": {
        "id": "kgV7AM0pF0sS",
        "colab_type": "text"
      },
      "cell_type": "markdown",
      "source": [
        "# Model # 4: Base model plus data augmentation (shift, rotate, zoom)"
      ]
    },
    {
      "metadata": {
        "id": "8DbGbJJmF582",
        "colab_type": "code",
        "colab": {
          "base_uri": "https://localhost:8080/",
          "height": 34
        },
        "outputId": "46118cd7-d786-42bc-feab-454c93cf2814"
      },
      "cell_type": "code",
      "source": [
        "from keras.preprocessing.image import ImageDataGenerator\n",
        "from keras.datasets import cifar10\n",
        "import numpy as np\n",
        "import sklearn\n",
        "import tensorflow as tf\n",
        "from tensorflow.keras import layers, utils"
      ],
      "execution_count": 1,
      "outputs": [
        {
          "output_type": "stream",
          "text": [
            "Using TensorFlow backend.\n"
          ],
          "name": "stderr"
        }
      ]
    },
    {
      "metadata": {
        "id": "xO6XPPyNJqTp",
        "colab_type": "code",
        "colab": {}
      },
      "cell_type": "code",
      "source": [
        "(train_images, train_labels), (test_images, test_labels) = cifar10.load_data()"
      ],
      "execution_count": 0,
      "outputs": []
    },
    {
      "metadata": {
        "id": "Itcful4jJhfi",
        "colab_type": "code",
        "colab": {}
      },
      "cell_type": "code",
      "source": [
        "# Preprocess data\n",
        "train_images = train_images.reshape((50000, 32, 32, 3)) / 255.0\n",
        "test_images = test_images.reshape((10000, 32, 32, 3)) / 255.0\n",
        "\n",
        "train_labels_categorical = utils.to_categorical(train_labels, num_classes=10, dtype='float32')\n",
        "test_labels_categorical = utils.to_categorical(test_labels, num_classes=10, dtype='float32')\n",
        "\n",
        "# Implement simple holdout validation\n",
        "length = len(train_images)\n",
        "threshold = int(length * 0.8)\n",
        "\n",
        "train_set_images = train_images[0:threshold]\n",
        "train_set_labels = train_labels_categorical[0:threshold]\n",
        "\n",
        "val_set_images = train_images[threshold:length]\n",
        "val_set_labels = train_labels_categorical[threshold:length]"
      ],
      "execution_count": 0,
      "outputs": []
    },
    {
      "metadata": {
        "id": "S482tm6mJxM6",
        "colab_type": "code",
        "colab": {
          "base_uri": "https://localhost:8080/",
          "height": 476
        },
        "outputId": "f8f7d6ac-499a-4844-f322-e54d9a9211af"
      },
      "cell_type": "code",
      "source": [
        "#Define model\n",
        "\n",
        "model = tf.keras.Sequential()\n",
        "\n",
        "# First convolutional module\n",
        "model.add(layers.Conv2D(filters=64, kernel_size=(3,3), activation='relu', input_shape=(32,32,3)))\n",
        "model.add(layers.MaxPooling2D(pool_size=(2,2)))\n",
        "model.add(layers.Dropout(0.2))\n",
        "\n",
        "# Second convolutional module\n",
        "model.add(layers.Conv2D(filters=128, kernel_size=(3,3), activation='relu'))\n",
        "model.add(layers.MaxPooling2D(pool_size=(2,2)))\n",
        "model.add(layers.Dropout(0.2))\n",
        "\n",
        "\n",
        "# Fully connected layers\n",
        "model.add(layers.Flatten())\n",
        "model.add(layers.Dense(64, activation='relu'))\n",
        "model.add(layers.Dense(64, activation='relu'))\n",
        "model.add(layers.Dense(10, activation='softmax'))\n",
        "\n",
        "model.compile(optimizer='rmsprop',\n",
        "              loss='categorical_crossentropy',\n",
        "              metrics=['accuracy'])\n",
        "\n",
        "model.summary()\n"
      ],
      "execution_count": 7,
      "outputs": [
        {
          "output_type": "stream",
          "text": [
            "_________________________________________________________________\n",
            "Layer (type)                 Output Shape              Param #   \n",
            "=================================================================\n",
            "conv2d_2 (Conv2D)            (None, 30, 30, 64)        1792      \n",
            "_________________________________________________________________\n",
            "max_pooling2d_2 (MaxPooling2 (None, 15, 15, 64)        0         \n",
            "_________________________________________________________________\n",
            "dropout_2 (Dropout)          (None, 15, 15, 64)        0         \n",
            "_________________________________________________________________\n",
            "conv2d_3 (Conv2D)            (None, 13, 13, 128)       73856     \n",
            "_________________________________________________________________\n",
            "max_pooling2d_3 (MaxPooling2 (None, 6, 6, 128)         0         \n",
            "_________________________________________________________________\n",
            "dropout_3 (Dropout)          (None, 6, 6, 128)         0         \n",
            "_________________________________________________________________\n",
            "flatten_1 (Flatten)          (None, 4608)              0         \n",
            "_________________________________________________________________\n",
            "dense_3 (Dense)              (None, 64)                294976    \n",
            "_________________________________________________________________\n",
            "dense_4 (Dense)              (None, 64)                4160      \n",
            "_________________________________________________________________\n",
            "dense_5 (Dense)              (None, 10)                650       \n",
            "=================================================================\n",
            "Total params: 375,434\n",
            "Trainable params: 375,434\n",
            "Non-trainable params: 0\n",
            "_________________________________________________________________\n"
          ],
          "name": "stdout"
        }
      ]
    },
    {
      "metadata": {
        "id": "fk9SEIEfF9aG",
        "colab_type": "code",
        "colab": {}
      },
      "cell_type": "code",
      "source": [
        "train_datagen = ImageDataGenerator(\n",
        "    rotation_range=40,\n",
        "    width_shift_range=0.2,\n",
        "    height_shift_range=0.2,\n",
        "    zoom_range=0.2,\n",
        "    horizontal_flip=True,\n",
        "    fill_mode='nearest')\n",
        "\n",
        "train_generator = train_datagen.flow(\n",
        "    x=train_set_images,\n",
        "    y=train_set_labels,\n",
        "    batch_size=50,\n",
        ")\n",
        "\n",
        "validation_datagen = ImageDataGenerator()\n",
        "\n",
        "validation_generator = validation_datagen.flow(\n",
        "    x=val_set_images,\n",
        "    y=val_set_labels,\n",
        "    batch_size=50,\n",
        ")"
      ],
      "execution_count": 0,
      "outputs": []
    },
    {
      "metadata": {
        "id": "dkCk2rLXJTXx",
        "colab_type": "code",
        "colab": {
          "base_uri": "https://localhost:8080/",
          "height": 1037
        },
        "outputId": "aa319ad6-2745-496f-8555-16ab91b86dba"
      },
      "cell_type": "code",
      "source": [
        "history = model.fit_generator(\n",
        "    train_generator,\n",
        "    steps_per_epoch=800,\n",
        "    epochs=20,\n",
        "    validation_data=validation_generator,\n",
        "    validation_steps=200\n",
        ")"
      ],
      "execution_count": 9,
      "outputs": [
        {
          "output_type": "stream",
          "text": [
            "Epoch 1/20\n",
            "200/200 [==============================] - 11s 57ms/step - loss: 1.5726 - acc: 0.4370\n",
            "800/800 [==============================] - 166s 207ms/step - loss: 1.8906 - acc: 0.3047 - val_loss: 1.5726 - val_acc: 0.4370\n",
            "Epoch 2/20\n",
            "200/200 [==============================] - 11s 56ms/step - loss: 1.4072 - acc: 0.4952\n",
            "800/800 [==============================] - 166s 207ms/step - loss: 1.6555 - acc: 0.4003 - val_loss: 1.4072 - val_acc: 0.4952\n",
            "Epoch 3/20\n",
            "200/200 [==============================] - 11s 55ms/step - loss: 1.5278 - acc: 0.4624\n",
            "800/800 [==============================] - 165s 206ms/step - loss: 1.5620 - acc: 0.4405 - val_loss: 1.5278 - val_acc: 0.4624\n",
            "Epoch 4/20\n",
            "200/200 [==============================] - 11s 55ms/step - loss: 1.2549 - acc: 0.5492\n",
            "800/800 [==============================] - 165s 207ms/step - loss: 1.5027 - acc: 0.4595 - val_loss: 1.2549 - val_acc: 0.5492\n",
            "Epoch 5/20\n",
            "200/200 [==============================] - 12s 58ms/step - loss: 1.2486 - acc: 0.5595\n",
            "800/800 [==============================] - 165s 207ms/step - loss: 1.4450 - acc: 0.4830 - val_loss: 1.2486 - val_acc: 0.5595\n",
            "Epoch 6/20\n",
            "200/200 [==============================] - 11s 55ms/step - loss: 1.1253 - acc: 0.6043\n",
            "800/800 [==============================] - 163s 204ms/step - loss: 1.4080 - acc: 0.4977 - val_loss: 1.1253 - val_acc: 0.6043\n",
            "Epoch 7/20\n",
            "200/200 [==============================] - 11s 55ms/step - loss: 1.1328 - acc: 0.6033\n",
            "800/800 [==============================] - 164s 205ms/step - loss: 1.3885 - acc: 0.5051 - val_loss: 1.1328 - val_acc: 0.6033\n",
            "Epoch 8/20\n",
            "200/200 [==============================] - 11s 55ms/step - loss: 1.1004 - acc: 0.6099\n",
            "800/800 [==============================] - 163s 204ms/step - loss: 1.3568 - acc: 0.5171 - val_loss: 1.1004 - val_acc: 0.6099\n",
            "Epoch 9/20\n",
            "200/200 [==============================] - 11s 55ms/step - loss: 1.0478 - acc: 0.6367\n",
            "800/800 [==============================] - 164s 205ms/step - loss: 1.3448 - acc: 0.5242 - val_loss: 1.0478 - val_acc: 0.6367\n",
            "Epoch 10/20\n",
            "200/200 [==============================] - 11s 55ms/step - loss: 1.0290 - acc: 0.6422\n",
            "800/800 [==============================] - 163s 203ms/step - loss: 1.3260 - acc: 0.5303 - val_loss: 1.0290 - val_acc: 0.6422\n",
            "Epoch 11/20\n",
            "200/200 [==============================] - 11s 55ms/step - loss: 1.3049 - acc: 0.5519\n",
            "800/800 [==============================] - 163s 204ms/step - loss: 1.3120 - acc: 0.5326 - val_loss: 1.3049 - val_acc: 0.5519\n",
            "Epoch 12/20\n",
            "200/200 [==============================] - 11s 55ms/step - loss: 1.0456 - acc: 0.6383\n",
            "800/800 [==============================] - 164s 205ms/step - loss: 1.2982 - acc: 0.5397 - val_loss: 1.0456 - val_acc: 0.6383\n",
            "Epoch 13/20\n",
            "200/200 [==============================] - 11s 55ms/step - loss: 1.0789 - acc: 0.6296\n",
            "800/800 [==============================] - 164s 206ms/step - loss: 1.2784 - acc: 0.5484 - val_loss: 1.0789 - val_acc: 0.6296\n",
            "Epoch 14/20\n",
            "200/200 [==============================] - 11s 56ms/step - loss: 1.0132 - acc: 0.6421\n",
            "800/800 [==============================] - 166s 207ms/step - loss: 1.2759 - acc: 0.5475 - val_loss: 1.0132 - val_acc: 0.6421\n",
            "Epoch 15/20\n",
            "200/200 [==============================] - 11s 55ms/step - loss: 1.0402 - acc: 0.6363\n",
            "800/800 [==============================] - 164s 205ms/step - loss: 1.2638 - acc: 0.5536 - val_loss: 1.0402 - val_acc: 0.6363\n",
            "Epoch 16/20\n",
            "200/200 [==============================] - 11s 55ms/step - loss: 1.1041 - acc: 0.6160\n",
            "800/800 [==============================] - 176s 220ms/step - loss: 1.2570 - acc: 0.5562 - val_loss: 1.1041 - val_acc: 0.6160\n",
            "Epoch 17/20\n",
            "200/200 [==============================] - 11s 55ms/step - loss: 1.0976 - acc: 0.6274\n",
            "800/800 [==============================] - 167s 208ms/step - loss: 1.2569 - acc: 0.5573 - val_loss: 1.0976 - val_acc: 0.6274\n",
            "Epoch 18/20\n",
            "200/200 [==============================] - 11s 56ms/step - loss: 1.1140 - acc: 0.6197\n",
            "800/800 [==============================] - 166s 208ms/step - loss: 1.2504 - acc: 0.5592 - val_loss: 1.1140 - val_acc: 0.6197\n",
            "Epoch 19/20\n",
            "200/200 [==============================] - 11s 55ms/step - loss: 1.0695 - acc: 0.6290\n",
            "800/800 [==============================] - 168s 210ms/step - loss: 1.2451 - acc: 0.5634 - val_loss: 1.0695 - val_acc: 0.6290\n",
            "Epoch 20/20\n",
            "200/200 [==============================] - 11s 56ms/step - loss: 1.1287 - acc: 0.6187\n",
            "800/800 [==============================] - 166s 208ms/step - loss: 1.2536 - acc: 0.5595 - val_loss: 1.1287 - val_acc: 0.6187\n"
          ],
          "name": "stdout"
        }
      ]
    },
    {
      "metadata": {
        "id": "EYSbJyUT7r50",
        "colab_type": "code",
        "colab": {
          "base_uri": "https://localhost:8080/",
          "height": 376
        },
        "outputId": "c7bc9544-cd00-4e4f-acfd-be5515b967a8"
      },
      "cell_type": "code",
      "source": [
        "#plot results\n",
        "import matplotlib as mpl\n",
        "import matplotlib.pyplot as plt\n",
        "\n",
        "epoch = []\n",
        "for i in range(20):\n",
        "  epoch.append(i+1)\n",
        "  \n",
        "plt.plot(epoch, history.history['val_acc'], label='Validation accuracy')\n",
        "plt.plot(epoch, history.history['acc'], label='Training accuracy')\n",
        "plt.xlabel(\"# of epochs\")\n",
        "plt.ylabel(\"Accuracy\")\n",
        "plt.title(\"Results for model 3\")\n",
        "plt.legend(loc=\"lower right\", fontsize=16)\n",
        "plt.show()"
      ],
      "execution_count": 12,
      "outputs": [
        {
          "output_type": "display_data",
          "data": {
            "image/png": "[encoded data removed]",
            "text/plain": [
              "<Figure size 576x396 with 1 Axes>"
            ]
          },
          "metadata": {
            "tags": []
          }
        }
      ]
    }
  ]
}