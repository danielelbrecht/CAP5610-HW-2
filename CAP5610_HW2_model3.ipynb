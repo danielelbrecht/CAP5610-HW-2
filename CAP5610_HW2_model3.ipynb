{
  "nbformat": 4,
  "nbformat_minor": 0,
  "metadata": {
    "colab": {
      "name": "CAP5610_HW2_model3.ipynb",
      "version": "0.3.2",
      "provenance": [],
      "include_colab_link": true
    },
    "kernelspec": {
      "name": "python3",
      "display_name": "Python 3"
    }
  },
  "cells": [
    {
      "cell_type": "markdown",
      "metadata": {
        "id": "view-in-github",
        "colab_type": "text"
      },
      "source": [
        "<a href=\"https://colab.research.google.com/github/danielelbrecht/CAP5610-HW-2/blob/master/CAP5610_HW2_model3.ipynb\" target=\"_parent\"><img src=\"https://colab.research.google.com/assets/colab-badge.svg\" alt=\"Open In Colab\"/></a>"
      ]
    },
    {
      "metadata": {
        "id": "Keh-AL4gvaqu",
        "colab_type": "text"
      },
      "cell_type": "markdown",
      "source": [
        "# Model # 3:  Add in average pooling, elu activations"
      ]
    },
    {
      "metadata": {
        "id": "OHJEpVpKvjhi",
        "colab_type": "code",
        "colab": {
          "base_uri": "https://localhost:8080/",
          "height": 34
        },
        "outputId": "995c9164-6394-4883-de88-79f536a1e32b"
      },
      "cell_type": "code",
      "source": [
        "from keras.datasets import cifar10\n",
        "import numpy as np\n",
        "import sklearn\n",
        "import tensorflow as tf\n",
        "from tensorflow.keras import layers, utils"
      ],
      "execution_count": 1,
      "outputs": [
        {
          "output_type": "stream",
          "text": [
            "Using TensorFlow backend.\n"
          ],
          "name": "stderr"
        }
      ]
    },
    {
      "metadata": {
        "id": "GKc-NPVtx2Sb",
        "colab_type": "code",
        "colab": {}
      },
      "cell_type": "code",
      "source": [
        "(train_images, train_labels), (test_images, test_labels) = cifar10.load_data()"
      ],
      "execution_count": 0,
      "outputs": []
    },
    {
      "metadata": {
        "id": "jXRfCH3Bx61U",
        "colab_type": "code",
        "colab": {}
      },
      "cell_type": "code",
      "source": [
        "# Preprocess data\n",
        "train_images = train_images.reshape((50000, 32, 32, 3)) / 255.0\n",
        "test_images = test_images.reshape((10000, 32, 32, 3)) / 255.0\n",
        "\n",
        "train_labels_categorical = utils.to_categorical(train_labels, num_classes=10, dtype='float32')\n",
        "test_labels_categorical = utils.to_categorical(test_labels, num_classes=10, dtype='float32')\n",
        "\n",
        "# Implement simple holdout validation\n",
        "length = len(train_images)\n",
        "threshold = int(length * 0.8)\n",
        "\n",
        "train_set_images = train_images[0:threshold]\n",
        "train_set_labels = train_labels_categorical[0:threshold]\n",
        "\n",
        "val_set_images = train_images[threshold:length]\n",
        "val_set_labels = train_labels_categorical[threshold:length]"
      ],
      "execution_count": 0,
      "outputs": []
    },
    {
      "metadata": {
        "id": "c65F6AP-x7ag",
        "colab_type": "code",
        "colab": {
          "base_uri": "https://localhost:8080/",
          "height": 476
        },
        "outputId": "ae10e622-8e2d-4434-c48d-39ba188b4b54"
      },
      "cell_type": "code",
      "source": [
        "#Define model\n",
        "\n",
        "model = tf.keras.Sequential()\n",
        "\n",
        "# First convolutional module\n",
        "model.add(layers.Conv2D(filters=64, kernel_size=(3,3), activation='elu', input_shape=(32,32,3)))\n",
        "model.add(layers.AveragePooling2D(pool_size=(2,2)))\n",
        "model.add(layers.Dropout(0.2))\n",
        "\n",
        "# Second convolutional module\n",
        "model.add(layers.Conv2D(filters=128, kernel_size=(3,3), activation='elu'))\n",
        "model.add(layers.MaxPooling2D(pool_size=(2,2)))\n",
        "model.add(layers.Dropout(0.2))\n",
        "\n",
        "\n",
        "# Fully connected layers\n",
        "model.add(layers.Flatten())\n",
        "model.add(layers.Dense(64, activation='elu'))\n",
        "model.add(layers.Dense(64, activation='elu'))\n",
        "model.add(layers.Dense(10, activation='softmax'))\n",
        "\n",
        "model.compile(optimizer='rmsprop',\n",
        "              loss='categorical_crossentropy',\n",
        "              metrics=['accuracy'])\n",
        "\n",
        "model.summary()"
      ],
      "execution_count": 7,
      "outputs": [
        {
          "output_type": "stream",
          "text": [
            "_________________________________________________________________\n",
            "Layer (type)                 Output Shape              Param #   \n",
            "=================================================================\n",
            "conv2d_3 (Conv2D)            (None, 30, 30, 64)        1792      \n",
            "_________________________________________________________________\n",
            "average_pooling2d (AveragePo (None, 15, 15, 64)        0         \n",
            "_________________________________________________________________\n",
            "dropout_1 (Dropout)          (None, 15, 15, 64)        0         \n",
            "_________________________________________________________________\n",
            "conv2d_4 (Conv2D)            (None, 13, 13, 128)       73856     \n",
            "_________________________________________________________________\n",
            "max_pooling2d (MaxPooling2D) (None, 6, 6, 128)         0         \n",
            "_________________________________________________________________\n",
            "dropout_2 (Dropout)          (None, 6, 6, 128)         0         \n",
            "_________________________________________________________________\n",
            "flatten (Flatten)            (None, 4608)              0         \n",
            "_________________________________________________________________\n",
            "dense (Dense)                (None, 64)                294976    \n",
            "_________________________________________________________________\n",
            "dense_1 (Dense)              (None, 64)                4160      \n",
            "_________________________________________________________________\n",
            "dense_2 (Dense)              (None, 10)                650       \n",
            "=================================================================\n",
            "Total params: 375,434\n",
            "Trainable params: 375,434\n",
            "Non-trainable params: 0\n",
            "_________________________________________________________________\n"
          ],
          "name": "stdout"
        }
      ]
    },
    {
      "metadata": {
        "id": "nTMA-cUA2GR2",
        "colab_type": "code",
        "colab": {
          "base_uri": "https://localhost:8080/",
          "height": 445
        },
        "outputId": "fd141f51-cf3f-41df-c44b-a1d5c6083896"
      },
      "cell_type": "code",
      "source": [
        "# Train model\n",
        "history = model.fit(train_set_images, \n",
        "                      train_set_labels, \n",
        "                      epochs=10,\n",
        "                      validation_data=(val_set_images, val_set_labels))"
      ],
      "execution_count": 8,
      "outputs": [
        {
          "output_type": "stream",
          "text": [
            "Train on 40000 samples, validate on 10000 samples\n",
            "WARNING:tensorflow:From /usr/local/lib/python3.6/dist-packages/tensorflow/python/ops/math_ops.py:3066: to_int32 (from tensorflow.python.ops.math_ops) is deprecated and will be removed in a future version.\n",
            "Instructions for updating:\n",
            "Use tf.cast instead.\n",
            "Epoch 1/10\n",
            "40000/40000 [==============================] - 312s 8ms/sample - loss: 1.4672 - acc: 0.4790 - val_loss: 1.2814 - val_acc: 0.5528\n",
            "Epoch 2/10\n",
            "40000/40000 [==============================] - 306s 8ms/sample - loss: 1.1698 - acc: 0.5900 - val_loss: 1.1799 - val_acc: 0.5911\n",
            "Epoch 3/10\n",
            "40000/40000 [==============================] - 306s 8ms/sample - loss: 1.0442 - acc: 0.6338 - val_loss: 1.1018 - val_acc: 0.6212\n",
            "Epoch 4/10\n",
            "40000/40000 [==============================] - 303s 8ms/sample - loss: 0.9465 - acc: 0.6690 - val_loss: 1.0643 - val_acc: 0.6410\n",
            "Epoch 5/10\n",
            "40000/40000 [==============================] - 304s 8ms/sample - loss: 0.8703 - acc: 0.6976 - val_loss: 1.2091 - val_acc: 0.6103\n",
            "Epoch 6/10\n",
            "40000/40000 [==============================] - 159s 4ms/sample - loss: 0.8062 - acc: 0.7169 - val_loss: 1.0975 - val_acc: 0.6366\n",
            "Epoch 7/10\n",
            "40000/40000 [==============================] - 155s 4ms/sample - loss: 0.7504 - acc: 0.7380 - val_loss: 1.0841 - val_acc: 0.6547\n",
            "Epoch 8/10\n",
            "40000/40000 [==============================] - 155s 4ms/sample - loss: 0.7023 - acc: 0.7539 - val_loss: 1.1255 - val_acc: 0.6493\n",
            "Epoch 9/10\n",
            "40000/40000 [==============================] - 154s 4ms/sample - loss: 0.6614 - acc: 0.7694 - val_loss: 1.1285 - val_acc: 0.6570\n",
            "Epoch 10/10\n",
            "40000/40000 [==============================] - 155s 4ms/sample - loss: 0.6245 - acc: 0.7812 - val_loss: 1.1519 - val_acc: 0.6576\n"
          ],
          "name": "stdout"
        }
      ]
    }
  ]
}