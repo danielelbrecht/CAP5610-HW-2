{
  "nbformat": 4,
  "nbformat_minor": 0,
  "metadata": {
    "colab": {
      "name": "CAP5610_HW2_model2.ipynb",
      "version": "0.3.2",
      "provenance": [],
      "include_colab_link": true
    },
    "kernelspec": {
      "name": "python3",
      "display_name": "Python 3"
    }
  },
  "cells": [
    {
      "cell_type": "markdown",
      "metadata": {
        "id": "view-in-github",
        "colab_type": "text"
      },
      "source": [
        "<a href=\"https://colab.research.google.com/github/danielelbrecht/CAP5610-HW-2/blob/master/CAP5610_HW2_model2.ipynb\" target=\"_parent\"><img src=\"https://colab.research.google.com/assets/colab-badge.svg\" alt=\"Open In Colab\"/></a>"
      ]
    },
    {
      "metadata": {
        "id": "AgbFsmdesmQ8",
        "colab_type": "text"
      },
      "cell_type": "markdown",
      "source": [
        "# Model # 2: Increase # of filters in first module and increase filter size"
      ]
    },
    {
      "metadata": {
        "id": "3aTSpRPgsuiI",
        "colab_type": "code",
        "colab": {
          "base_uri": "https://localhost:8080/",
          "height": 34
        },
        "outputId": "a91c5e68-3904-455b-a78d-1a4021143deb"
      },
      "cell_type": "code",
      "source": [
        "from keras.datasets import cifar10\n",
        "import numpy as np\n",
        "import sklearn\n",
        "import tensorflow as tf\n",
        "from tensorflow.keras import layers, utils"
      ],
      "execution_count": 1,
      "outputs": [
        {
          "output_type": "stream",
          "text": [
            "Using TensorFlow backend.\n"
          ],
          "name": "stderr"
        }
      ]
    },
    {
      "metadata": {
        "id": "NnjICZEDsxFi",
        "colab_type": "code",
        "colab": {}
      },
      "cell_type": "code",
      "source": [
        "(train_images, train_labels), (test_images, test_labels) = cifar10.load_data()"
      ],
      "execution_count": 0,
      "outputs": []
    },
    {
      "metadata": {
        "id": "QeV3Tj1Qsy6M",
        "colab_type": "code",
        "colab": {}
      },
      "cell_type": "code",
      "source": [
        "# Preprocess data\n",
        "train_images = train_images.reshape((50000, 32, 32, 3)) / 255.0\n",
        "test_images = test_images.reshape((10000, 32, 32, 3)) / 255.0\n",
        "\n",
        "train_labels_categorical = utils.to_categorical(train_labels, num_classes=10, dtype='float32')\n",
        "test_labels_categorical = utils.to_categorical(test_labels, num_classes=10, dtype='float32')\n",
        "\n",
        "# Implement simple holdout validation\n",
        "length = len(train_images)\n",
        "threshold = int(length * 0.8)\n",
        "\n",
        "train_set_images = train_images[0:threshold]\n",
        "train_set_labels = train_labels_categorical[0:threshold]\n",
        "\n",
        "val_set_images = train_images[threshold:length]\n",
        "val_set_labels = train_labels_categorical[threshold:length]"
      ],
      "execution_count": 0,
      "outputs": []
    },
    {
      "metadata": {
        "id": "BPR2mkSLs3B2",
        "colab_type": "code",
        "colab": {
          "base_uri": "https://localhost:8080/",
          "height": 476
        },
        "outputId": "cffcfb19-6b9b-451e-edbb-8eb83ac73227"
      },
      "cell_type": "code",
      "source": [
        "#Define hyperparameters\n",
        "learning_rate = 0.01\n",
        "\n",
        "#Define model\n",
        "\n",
        "model = tf.keras.Sequential()\n",
        "\n",
        "# First convolutional module\n",
        "model.add(layers.Conv2D(filters=128, kernel_size=(5,5), activation='relu', input_shape=(32,32,3)))\n",
        "model.add(layers.MaxPooling2D(pool_size=(2,2)))\n",
        "model.add(layers.Dropout(0.2))\n",
        "\n",
        "# Second convolutional module\n",
        "model.add(layers.Conv2D(filters=128, kernel_size=(3,3), activation='relu'))\n",
        "model.add(layers.MaxPooling2D(pool_size=(2,2)))\n",
        "model.add(layers.Dropout(0.2))\n",
        "\n",
        "\n",
        "# Fully connected layers\n",
        "model.add(layers.Flatten())\n",
        "model.add(layers.Dense(64, activation='relu'))\n",
        "model.add(layers.Dense(64, activation='relu'))\n",
        "model.add(layers.Dense(10, activation='softmax'))\n",
        "\n",
        "model.compile(optimizer='rmsprop',\n",
        "              loss='categorical_crossentropy',\n",
        "              metrics=['accuracy'])\n",
        "\n",
        "model.summary()"
      ],
      "execution_count": 7,
      "outputs": [
        {
          "output_type": "stream",
          "text": [
            "_________________________________________________________________\n",
            "Layer (type)                 Output Shape              Param #   \n",
            "=================================================================\n",
            "conv2d_4 (Conv2D)            (None, 28, 28, 128)       9728      \n",
            "_________________________________________________________________\n",
            "max_pooling2d_4 (MaxPooling2 (None, 14, 14, 128)       0         \n",
            "_________________________________________________________________\n",
            "dropout_5 (Dropout)          (None, 14, 14, 128)       0         \n",
            "_________________________________________________________________\n",
            "conv2d_5 (Conv2D)            (None, 12, 12, 128)       147584    \n",
            "_________________________________________________________________\n",
            "max_pooling2d_5 (MaxPooling2 (None, 6, 6, 128)         0         \n",
            "_________________________________________________________________\n",
            "dropout_6 (Dropout)          (None, 6, 6, 128)         0         \n",
            "_________________________________________________________________\n",
            "flatten_2 (Flatten)          (None, 4608)              0         \n",
            "_________________________________________________________________\n",
            "dense_6 (Dense)              (None, 64)                294976    \n",
            "_________________________________________________________________\n",
            "dense_7 (Dense)              (None, 64)                4160      \n",
            "_________________________________________________________________\n",
            "dense_8 (Dense)              (None, 10)                650       \n",
            "=================================================================\n",
            "Total params: 457,098\n",
            "Trainable params: 457,098\n",
            "Non-trainable params: 0\n",
            "_________________________________________________________________\n"
          ],
          "name": "stdout"
        }
      ]
    },
    {
      "metadata": {
        "id": "UMm2NFn6s9ww",
        "colab_type": "code",
        "colab": {
          "base_uri": "https://localhost:8080/",
          "height": 374
        },
        "outputId": "914a2a03-a613-47db-98a7-0c83b138129c"
      },
      "cell_type": "code",
      "source": [
        "# Train model\n",
        "history = model.fit(train_set_images, \n",
        "                    train_set_labels, \n",
        "                    epochs=10,\n",
        "                    validation_data=(val_set_images, val_set_labels))"
      ],
      "execution_count": 8,
      "outputs": [
        {
          "output_type": "stream",
          "text": [
            "Train on 40000 samples, validate on 10000 samples\n",
            "Epoch 1/10\n",
            "40000/40000 [==============================] - 270s 7ms/sample - loss: 1.6396 - acc: 0.4084 - val_loss: 1.3757 - val_acc: 0.5094\n",
            "Epoch 2/10\n",
            "40000/40000 [==============================] - 271s 7ms/sample - loss: 1.2511 - acc: 0.5596 - val_loss: 1.2090 - val_acc: 0.5768\n",
            "Epoch 3/10\n",
            "40000/40000 [==============================] - 270s 7ms/sample - loss: 1.0924 - acc: 0.6202 - val_loss: 1.0319 - val_acc: 0.6464\n",
            "Epoch 4/10\n",
            "40000/40000 [==============================] - 273s 7ms/sample - loss: 1.0023 - acc: 0.6536 - val_loss: 0.9293 - val_acc: 0.6811\n",
            "Epoch 5/10\n",
            "40000/40000 [==============================] - 271s 7ms/sample - loss: 0.9265 - acc: 0.6817 - val_loss: 1.0438 - val_acc: 0.6453\n",
            "Epoch 6/10\n",
            "40000/40000 [==============================] - 281s 7ms/sample - loss: 0.8789 - acc: 0.6988 - val_loss: 0.9631 - val_acc: 0.6730\n",
            "Epoch 7/10\n",
            "40000/40000 [==============================] - 272s 7ms/sample - loss: 0.8380 - acc: 0.7153 - val_loss: 0.9885 - val_acc: 0.6638\n",
            "Epoch 8/10\n",
            "40000/40000 [==============================] - 506s 13ms/sample - loss: 0.8093 - acc: 0.7236 - val_loss: 0.9805 - val_acc: 0.6711\n",
            "Epoch 9/10\n",
            "40000/40000 [==============================] - 540s 14ms/sample - loss: 0.7999 - acc: 0.7312 - val_loss: 0.9547 - val_acc: 0.6831\n",
            "Epoch 10/10\n",
            "40000/40000 [==============================] - 537s 13ms/sample - loss: 0.7939 - acc: 0.7333 - val_loss: 0.9659 - val_acc: 0.6965\n"
          ],
          "name": "stdout"
        }
      ]
    }
  ]
}