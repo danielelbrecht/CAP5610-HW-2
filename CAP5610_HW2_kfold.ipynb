{
  "nbformat": 4,
  "nbformat_minor": 0,
  "metadata": {
    "colab": {
      "name": "CAP5610_HW2_kfold.ipynb",
      "version": "0.3.2",
      "provenance": [],
      "include_colab_link": true
    },
    "kernelspec": {
      "name": "python3",
      "display_name": "Python 3"
    }
  },
  "cells": [
    {
      "cell_type": "markdown",
      "metadata": {
        "id": "view-in-github",
        "colab_type": "text"
      },
      "source": [
        "<a href=\"https://colab.research.google.com/github/danielelbrecht/CAP5610-HW-2/blob/master/CAP5610_HW2_kfold.ipynb\" target=\"_parent\"><img src=\"https://colab.research.google.com/assets/colab-badge.svg\" alt=\"Open In Colab\"/></a>"
      ]
    },
    {
      "metadata": {
        "id": "hMdy9CMi-QoN",
        "colab_type": "text"
      },
      "cell_type": "markdown",
      "source": [
        "# Implement k-fold cross validation on final model, and compare validation accuracy to simple holdout validation"
      ]
    },
    {
      "metadata": {
        "id": "jYhvtXCt-X4s",
        "colab_type": "code",
        "outputId": "d1f104e7-b628-442d-8cee-f2b654ce19e3",
        "colab": {
          "base_uri": "https://localhost:8080/",
          "height": 34
        }
      },
      "cell_type": "code",
      "source": [
        "from keras.datasets import cifar10\n",
        "import numpy as np\n",
        "import sklearn\n",
        "import tensorflow as tf\n",
        "from tensorflow.keras import layers, utils"
      ],
      "execution_count": 5,
      "outputs": [
        {
          "output_type": "stream",
          "text": [
            "Using TensorFlow backend.\n"
          ],
          "name": "stderr"
        }
      ]
    },
    {
      "metadata": {
        "id": "AKF7RjhR-h71",
        "colab_type": "code",
        "colab": {}
      },
      "cell_type": "code",
      "source": [
        "(train_images, train_labels), (test_images, test_labels) = cifar10.load_data()"
      ],
      "execution_count": 0,
      "outputs": []
    },
    {
      "metadata": {
        "id": "98kQzsOa-lVY",
        "colab_type": "code",
        "colab": {}
      },
      "cell_type": "code",
      "source": [
        "# Preprocess data\n",
        "train_images = train_images.reshape((50000, 32, 32, 3)) / 255.0\n",
        "test_images = test_images.reshape((10000, 32, 32, 3)) / 255.0\n",
        "\n",
        "train_labels_categorical = utils.to_categorical(train_labels, num_classes=10, dtype='float32')\n",
        "test_labels_categorical = utils.to_categorical(test_labels, num_classes=10, dtype='float32')\n",
        "\n"
      ],
      "execution_count": 0,
      "outputs": []
    },
    {
      "metadata": {
        "id": "HeiuM7Gi-o4A",
        "colab_type": "code",
        "colab": {}
      },
      "cell_type": "code",
      "source": [
        "#k-fold cross validation function\n",
        "\n",
        "def kfold(k, model, data, labels):\n",
        "  \n",
        "  epochs = 20\n",
        "  length = len(data)\n",
        "  accuracy = 0\n",
        "  model.save_weights('initial_weights')\n",
        "  \n",
        "  for i in range(k):\n",
        "    \n",
        "    model.load_weights('initial_weights')\n",
        "    \n",
        "    #Get validation and training splits from data set\n",
        "    lower_bound = int(i*(length/k))\n",
        "    upper_bound = int((i+1)*(length/k))\n",
        "\n",
        "    train_data = np.concatenate((data[0:lower_bound], data[upper_bound:length]))\n",
        "    val_data = data[lower_bound:upper_bound]\n",
        "    \n",
        "    train_labels = np.concatenate((labels[0:lower_bound], labels[upper_bound:length]))\n",
        "    val_labels = labels[lower_bound:upper_bound]\n",
        "    \n",
        "    history = model.fit(train_data, \n",
        "                      train_labels, \n",
        "                      epochs=epochs,\n",
        "                      validation_data=(val_data, val_labels))\n",
        "    \n",
        "    accuracy = accuracy + history.history['acc'][epochs-1]\n",
        "    \n",
        "\n",
        "  return accuracy / k\n",
        "    "
      ],
      "execution_count": 0,
      "outputs": []
    },
    {
      "metadata": {
        "id": "BUSRWsdSFP5B",
        "colab_type": "code",
        "colab": {}
      },
      "cell_type": "code",
      "source": [
        "#Define model\n",
        "\n",
        "model = tf.keras.Sequential()\n",
        "\n",
        "# First convolutional module\n",
        "model.add(layers.Conv2D(filters=64, kernel_size=(3,3), activation='relu', input_shape=(32,32,3)))\n",
        "model.add(layers.MaxPooling2D(pool_size=(2,2)))\n",
        "model.add(layers.Dropout(0.2))\n",
        "\n",
        "# Second convolutional module\n",
        "model.add(layers.Conv2D(filters=128, kernel_size=(3,3), activation='relu'))\n",
        "model.add(layers.MaxPooling2D(pool_size=(2,2)))\n",
        "model.add(layers.Dropout(0.2))\n",
        "\n",
        "\n",
        "# Fully connected layers\n",
        "model.add(layers.Flatten())\n",
        "model.add(layers.Dense(64, activation='relu'))\n",
        "model.add(layers.Dense(64, activation='relu'))\n",
        "model.add(layers.Dense(10, activation='softmax'))\n",
        "\n",
        "model.compile(optimizer='rmsprop',\n",
        "              loss='categorical_crossentropy',\n",
        "              metrics=['accuracy'])"
      ],
      "execution_count": 0,
      "outputs": []
    },
    {
      "metadata": {
        "id": "kZSRExswAsF3",
        "colab_type": "code",
        "outputId": "26dc4ac0-fc67-413d-a97f-413062d112fb",
        "colab": {
          "base_uri": "https://localhost:8080/",
          "height": 3590
        }
      },
      "cell_type": "code",
      "source": [
        "#Perform 5-fold cross validation\n",
        "\n",
        "kfold(5, model, train_images, train_labels_categorical)"
      ],
      "execution_count": 10,
      "outputs": [
        {
          "output_type": "stream",
          "text": [
            "WARNING:tensorflow:This model was compiled with a Keras optimizer (<tensorflow.python.keras.optimizers.RMSprop object at 0x7f92e29acf28>) but is being saved in TensorFlow format with `save_weights`. The model's weights will be saved, but unlike with TensorFlow optimizers in the TensorFlow format the optimizer's state will not be saved.\n",
            "\n",
            "Consider using a TensorFlow optimizer from `tf.train`.\n",
            "Train on 40000 samples, validate on 10000 samples\n",
            "Epoch 1/20\n",
            "40000/40000 [==============================] - 165s 4ms/sample - loss: 1.5885 - acc: 0.4231 - val_loss: 1.2733 - val_acc: 0.5451\n",
            "Epoch 2/20\n",
            "40000/40000 [==============================] - 166s 4ms/sample - loss: 1.1875 - acc: 0.5819 - val_loss: 1.0366 - val_acc: 0.6412\n",
            "Epoch 3/20\n",
            "40000/40000 [==============================] - 166s 4ms/sample - loss: 1.0370 - acc: 0.6372 - val_loss: 1.0180 - val_acc: 0.6424\n",
            "Epoch 4/20\n",
            "40000/40000 [==============================] - 165s 4ms/sample - loss: 0.9329 - acc: 0.6755 - val_loss: 0.9946 - val_acc: 0.6503\n",
            "Epoch 5/20\n",
            "40000/40000 [==============================] - 166s 4ms/sample - loss: 0.8649 - acc: 0.6979 - val_loss: 0.8495 - val_acc: 0.7084\n",
            "Epoch 6/20\n",
            "40000/40000 [==============================] - 167s 4ms/sample - loss: 0.8132 - acc: 0.7175 - val_loss: 0.8542 - val_acc: 0.7089\n",
            "Epoch 7/20\n",
            "40000/40000 [==============================] - 167s 4ms/sample - loss: 0.7657 - acc: 0.7361 - val_loss: 0.8778 - val_acc: 0.7041\n",
            "Epoch 8/20\n",
            "40000/40000 [==============================] - 166s 4ms/sample - loss: 0.7350 - acc: 0.7462 - val_loss: 0.9550 - val_acc: 0.6861\n",
            "Epoch 9/20\n",
            "40000/40000 [==============================] - 166s 4ms/sample - loss: 0.7070 - acc: 0.7565 - val_loss: 0.8502 - val_acc: 0.7226\n",
            "Epoch 10/20\n",
            "40000/40000 [==============================] - 166s 4ms/sample - loss: 0.6871 - acc: 0.7620 - val_loss: 0.9029 - val_acc: 0.7145\n",
            "Epoch 11/20\n",
            "40000/40000 [==============================] - 166s 4ms/sample - loss: 0.6729 - acc: 0.7700 - val_loss: 0.9119 - val_acc: 0.6977\n",
            "Epoch 12/20\n",
            "40000/40000 [==============================] - 165s 4ms/sample - loss: 0.6582 - acc: 0.7766 - val_loss: 0.8665 - val_acc: 0.7296\n",
            "Epoch 13/20\n",
            "40000/40000 [==============================] - 166s 4ms/sample - loss: 0.6457 - acc: 0.7822 - val_loss: 0.9646 - val_acc: 0.6800\n",
            "Epoch 14/20\n",
            "40000/40000 [==============================] - 166s 4ms/sample - loss: 0.6461 - acc: 0.7815 - val_loss: 0.9261 - val_acc: 0.7023\n",
            "Epoch 15/20\n",
            "40000/40000 [==============================] - 166s 4ms/sample - loss: 0.6372 - acc: 0.7854 - val_loss: 0.8954 - val_acc: 0.7286\n",
            "Epoch 16/20\n",
            "40000/40000 [==============================] - 167s 4ms/sample - loss: 0.6339 - acc: 0.7882 - val_loss: 0.9016 - val_acc: 0.6989\n",
            "Epoch 17/20\n",
            "40000/40000 [==============================] - 190s 5ms/sample - loss: 0.6420 - acc: 0.7865 - val_loss: 0.9101 - val_acc: 0.7035\n",
            "Epoch 18/20\n",
            "40000/40000 [==============================] - 332s 8ms/sample - loss: 0.6331 - acc: 0.7879 - val_loss: 0.8981 - val_acc: 0.7035\n",
            "Epoch 19/20\n",
            "40000/40000 [==============================] - 324s 8ms/sample - loss: 0.6403 - acc: 0.7881 - val_loss: 0.8785 - val_acc: 0.7138\n",
            "Epoch 20/20\n",
            "40000/40000 [==============================] - 325s 8ms/sample - loss: 0.6181 - acc: 0.7958 - val_loss: 0.8858 - val_acc: 0.7086\n",
            "Train on 40000 samples, validate on 10000 samples\n",
            "Epoch 1/20\n",
            "40000/40000 [==============================] - 324s 8ms/sample - loss: 1.5956 - acc: 0.4249 - val_loss: 1.2536 - val_acc: 0.5534\n",
            "Epoch 2/20\n",
            "40000/40000 [==============================] - 327s 8ms/sample - loss: 1.1696 - acc: 0.5905 - val_loss: 1.1467 - val_acc: 0.5900\n",
            "Epoch 3/20\n",
            "40000/40000 [==============================] - 328s 8ms/sample - loss: 1.0143 - acc: 0.6491 - val_loss: 0.9731 - val_acc: 0.6626\n",
            "Epoch 4/20\n",
            "40000/40000 [==============================] - 328s 8ms/sample - loss: 0.9149 - acc: 0.6835 - val_loss: 0.9393 - val_acc: 0.6781\n",
            "Epoch 5/20\n",
            "40000/40000 [==============================] - 327s 8ms/sample - loss: 0.8436 - acc: 0.7084 - val_loss: 0.9482 - val_acc: 0.6693\n",
            "Epoch 6/20\n",
            "40000/40000 [==============================] - 326s 8ms/sample - loss: 0.7813 - acc: 0.7314 - val_loss: 0.8747 - val_acc: 0.7019\n",
            "Epoch 7/20\n",
            "40000/40000 [==============================] - 325s 8ms/sample - loss: 0.7421 - acc: 0.7450 - val_loss: 0.9044 - val_acc: 0.6954\n",
            "Epoch 8/20\n",
            "40000/40000 [==============================] - 327s 8ms/sample - loss: 0.7001 - acc: 0.7607 - val_loss: 0.9239 - val_acc: 0.6925\n",
            "Epoch 9/20\n",
            "40000/40000 [==============================] - 318s 8ms/sample - loss: 0.6727 - acc: 0.7688 - val_loss: 0.9159 - val_acc: 0.6976\n",
            "Epoch 10/20\n",
            "40000/40000 [==============================] - 323s 8ms/sample - loss: 0.6497 - acc: 0.7784 - val_loss: 0.9232 - val_acc: 0.7068\n",
            "Epoch 11/20\n",
            "40000/40000 [==============================] - 318s 8ms/sample - loss: 0.6257 - acc: 0.7880 - val_loss: 0.8740 - val_acc: 0.7106\n",
            "Epoch 12/20\n",
            "40000/40000 [==============================] - 319s 8ms/sample - loss: 0.6113 - acc: 0.7894 - val_loss: 0.8859 - val_acc: 0.7132\n",
            "Epoch 13/20\n",
            "40000/40000 [==============================] - 315s 8ms/sample - loss: 0.6024 - acc: 0.7969 - val_loss: 1.2179 - val_acc: 0.6923\n",
            "Epoch 14/20\n",
            "40000/40000 [==============================] - 322s 8ms/sample - loss: 0.5968 - acc: 0.7998 - val_loss: 0.9322 - val_acc: 0.7052\n",
            "Epoch 15/20\n",
            "40000/40000 [==============================] - 323s 8ms/sample - loss: 0.5887 - acc: 0.8014 - val_loss: 0.9356 - val_acc: 0.6947\n",
            "Epoch 16/20\n",
            "40000/40000 [==============================] - 323s 8ms/sample - loss: 0.5932 - acc: 0.8050 - val_loss: 0.9547 - val_acc: 0.7124\n",
            "Epoch 17/20\n",
            "40000/40000 [==============================] - 322s 8ms/sample - loss: 0.5902 - acc: 0.8026 - val_loss: 0.9613 - val_acc: 0.6775\n",
            "Epoch 18/20\n",
            "40000/40000 [==============================] - 322s 8ms/sample - loss: 0.5922 - acc: 0.8062 - val_loss: 1.0211 - val_acc: 0.6697\n",
            "Epoch 19/20\n",
            "40000/40000 [==============================] - 320s 8ms/sample - loss: 0.5931 - acc: 0.8080 - val_loss: 1.0065 - val_acc: 0.6997\n",
            "Epoch 20/20\n",
            "40000/40000 [==============================] - 323s 8ms/sample - loss: 0.6037 - acc: 0.8050 - val_loss: 1.1055 - val_acc: 0.6760\n",
            "Train on 40000 samples, validate on 10000 samples\n",
            "Epoch 1/20\n",
            "40000/40000 [==============================] - 320s 8ms/sample - loss: 1.6042 - acc: 0.4199 - val_loss: 1.2288 - val_acc: 0.5702\n",
            "Epoch 2/20\n",
            "40000/40000 [==============================] - 320s 8ms/sample - loss: 1.1837 - acc: 0.5859 - val_loss: 1.0972 - val_acc: 0.6118\n",
            "Epoch 3/20\n",
            "40000/40000 [==============================] - 323s 8ms/sample - loss: 1.0281 - acc: 0.6418 - val_loss: 0.9776 - val_acc: 0.6639\n",
            "Epoch 4/20\n",
            "40000/40000 [==============================] - 317s 8ms/sample - loss: 0.9323 - acc: 0.6757 - val_loss: 1.0284 - val_acc: 0.6439\n",
            "Epoch 5/20\n",
            "40000/40000 [==============================] - 318s 8ms/sample - loss: 0.8599 - acc: 0.7028 - val_loss: 0.9415 - val_acc: 0.6710\n",
            "Epoch 6/20\n",
            "40000/40000 [==============================] - 321s 8ms/sample - loss: 0.8055 - acc: 0.7207 - val_loss: 0.8738 - val_acc: 0.7021\n",
            "Epoch 7/20\n",
            "40000/40000 [==============================] - 318s 8ms/sample - loss: 0.7585 - acc: 0.7390 - val_loss: 0.9146 - val_acc: 0.6913\n",
            "Epoch 8/20\n",
            "40000/40000 [==============================] - 322s 8ms/sample - loss: 0.7277 - acc: 0.7503 - val_loss: 0.8708 - val_acc: 0.7129\n",
            "Epoch 9/20\n",
            "40000/40000 [==============================] - 324s 8ms/sample - loss: 0.6991 - acc: 0.7601 - val_loss: 0.8502 - val_acc: 0.7180\n",
            "Epoch 10/20\n",
            "40000/40000 [==============================] - 285s 7ms/sample - loss: 0.6738 - acc: 0.7699 - val_loss: 0.9155 - val_acc: 0.7028\n",
            "Epoch 11/20\n",
            "40000/40000 [==============================] - 165s 4ms/sample - loss: 0.6517 - acc: 0.7789 - val_loss: 0.8944 - val_acc: 0.6997\n",
            "Epoch 12/20\n",
            "40000/40000 [==============================] - 166s 4ms/sample - loss: 0.6522 - acc: 0.7797 - val_loss: 0.9208 - val_acc: 0.7152\n",
            "Epoch 13/20\n",
            "40000/40000 [==============================] - 165s 4ms/sample - loss: 0.6361 - acc: 0.7842 - val_loss: 0.8870 - val_acc: 0.7191\n",
            "Epoch 14/20\n",
            "40000/40000 [==============================] - 163s 4ms/sample - loss: 0.6229 - acc: 0.7891 - val_loss: 0.8828 - val_acc: 0.7171\n",
            "Epoch 15/20\n",
            "40000/40000 [==============================] - 162s 4ms/sample - loss: 0.6235 - acc: 0.7931 - val_loss: 1.0016 - val_acc: 0.7043\n",
            "Epoch 16/20\n",
            "40000/40000 [==============================] - 161s 4ms/sample - loss: 0.6264 - acc: 0.7911 - val_loss: 1.0014 - val_acc: 0.7235\n",
            "Epoch 17/20\n",
            "40000/40000 [==============================] - 162s 4ms/sample - loss: 0.6278 - acc: 0.7943 - val_loss: 0.9245 - val_acc: 0.7181\n",
            "Epoch 18/20\n",
            "40000/40000 [==============================] - 161s 4ms/sample - loss: 0.6218 - acc: 0.7973 - val_loss: 0.9102 - val_acc: 0.7103\n",
            "Epoch 19/20\n",
            "40000/40000 [==============================] - 162s 4ms/sample - loss: 0.6297 - acc: 0.7936 - val_loss: 0.8889 - val_acc: 0.7231\n",
            "Epoch 20/20\n",
            "40000/40000 [==============================] - 161s 4ms/sample - loss: 0.6196 - acc: 0.7975 - val_loss: 0.8910 - val_acc: 0.7118\n",
            "Train on 40000 samples, validate on 10000 samples\n",
            "Epoch 1/20\n",
            "40000/40000 [==============================] - 163s 4ms/sample - loss: 1.5865 - acc: 0.4243 - val_loss: 1.2901 - val_acc: 0.5371\n",
            "Epoch 2/20\n",
            "40000/40000 [==============================] - 162s 4ms/sample - loss: 1.1636 - acc: 0.5911 - val_loss: 1.1037 - val_acc: 0.6127\n",
            "Epoch 3/20\n",
            "40000/40000 [==============================] - 162s 4ms/sample - loss: 1.0110 - acc: 0.6484 - val_loss: 1.0137 - val_acc: 0.6487\n",
            "Epoch 4/20\n",
            "40000/40000 [==============================] - 162s 4ms/sample - loss: 0.9152 - acc: 0.6824 - val_loss: 1.0253 - val_acc: 0.6434\n",
            "Epoch 5/20\n",
            "40000/40000 [==============================] - 162s 4ms/sample - loss: 0.8476 - acc: 0.7057 - val_loss: 0.9368 - val_acc: 0.6742\n",
            "Epoch 6/20\n",
            "40000/40000 [==============================] - 161s 4ms/sample - loss: 0.7948 - acc: 0.7264 - val_loss: 0.9369 - val_acc: 0.6764\n",
            "Epoch 7/20\n",
            "40000/40000 [==============================] - 161s 4ms/sample - loss: 0.7481 - acc: 0.7416 - val_loss: 0.8943 - val_acc: 0.7032\n",
            "Epoch 8/20\n",
            "40000/40000 [==============================] - 161s 4ms/sample - loss: 0.7193 - acc: 0.7553 - val_loss: 0.8959 - val_acc: 0.7056\n",
            "Epoch 9/20\n",
            "40000/40000 [==============================] - 161s 4ms/sample - loss: 0.6928 - acc: 0.7655 - val_loss: 0.9144 - val_acc: 0.6954\n",
            "Epoch 10/20\n",
            "40000/40000 [==============================] - 161s 4ms/sample - loss: 0.6769 - acc: 0.7730 - val_loss: 0.9270 - val_acc: 0.7106\n",
            "Epoch 11/20\n",
            "40000/40000 [==============================] - 161s 4ms/sample - loss: 0.6584 - acc: 0.7780 - val_loss: 1.0046 - val_acc: 0.6630\n",
            "Epoch 12/20\n",
            "40000/40000 [==============================] - 162s 4ms/sample - loss: 0.6490 - acc: 0.7845 - val_loss: 0.9839 - val_acc: 0.6895\n",
            "Epoch 13/20\n",
            "40000/40000 [==============================] - 161s 4ms/sample - loss: 0.6447 - acc: 0.7823 - val_loss: 0.9465 - val_acc: 0.6939\n",
            "Epoch 14/20\n",
            "40000/40000 [==============================] - 164s 4ms/sample - loss: 0.6437 - acc: 0.7854 - val_loss: 0.9080 - val_acc: 0.7021\n",
            "Epoch 15/20\n",
            "40000/40000 [==============================] - 161s 4ms/sample - loss: 0.6421 - acc: 0.7872 - val_loss: 0.9721 - val_acc: 0.6789\n",
            "Epoch 16/20\n",
            "40000/40000 [==============================] - 162s 4ms/sample - loss: 0.6419 - acc: 0.7847 - val_loss: 0.9459 - val_acc: 0.7071\n",
            "Epoch 17/20\n",
            "40000/40000 [==============================] - 162s 4ms/sample - loss: 0.6414 - acc: 0.7869 - val_loss: 0.9833 - val_acc: 0.6848\n",
            "Epoch 18/20\n",
            "40000/40000 [==============================] - 161s 4ms/sample - loss: 0.6387 - acc: 0.7885 - val_loss: 0.9588 - val_acc: 0.6890\n",
            "Epoch 19/20\n",
            "40000/40000 [==============================] - 161s 4ms/sample - loss: 0.6379 - acc: 0.7925 - val_loss: 0.9154 - val_acc: 0.7153\n",
            "Epoch 20/20\n",
            "40000/40000 [==============================] - 161s 4ms/sample - loss: 0.6387 - acc: 0.7902 - val_loss: 0.9858 - val_acc: 0.6917\n",
            "Train on 40000 samples, validate on 10000 samples\n",
            "Epoch 1/20\n",
            "40000/40000 [==============================] - 162s 4ms/sample - loss: 1.6021 - acc: 0.4171 - val_loss: 1.2648 - val_acc: 0.5489\n",
            "Epoch 2/20\n",
            "40000/40000 [==============================] - 163s 4ms/sample - loss: 1.1884 - acc: 0.5822 - val_loss: 1.0570 - val_acc: 0.6351\n",
            "Epoch 3/20\n",
            "40000/40000 [==============================] - 162s 4ms/sample - loss: 1.0298 - acc: 0.6394 - val_loss: 1.0877 - val_acc: 0.6265\n",
            "Epoch 4/20\n",
            "40000/40000 [==============================] - 161s 4ms/sample - loss: 0.9355 - acc: 0.6739 - val_loss: 0.9350 - val_acc: 0.6748\n",
            "Epoch 5/20\n",
            "40000/40000 [==============================] - 161s 4ms/sample - loss: 0.8664 - acc: 0.7000 - val_loss: 0.9549 - val_acc: 0.6783\n",
            "Epoch 6/20\n",
            "40000/40000 [==============================] - 161s 4ms/sample - loss: 0.8111 - acc: 0.7179 - val_loss: 0.8709 - val_acc: 0.7024\n",
            "Epoch 7/20\n",
            "40000/40000 [==============================] - 161s 4ms/sample - loss: 0.7572 - acc: 0.7392 - val_loss: 0.8790 - val_acc: 0.7066\n",
            "Epoch 8/20\n",
            "40000/40000 [==============================] - 162s 4ms/sample - loss: 0.7254 - acc: 0.7494 - val_loss: 0.8683 - val_acc: 0.7101\n",
            "Epoch 9/20\n",
            "40000/40000 [==============================] - 162s 4ms/sample - loss: 0.6959 - acc: 0.7616 - val_loss: 0.9189 - val_acc: 0.7010\n",
            "Epoch 10/20\n",
            "40000/40000 [==============================] - 161s 4ms/sample - loss: 0.6684 - acc: 0.7699 - val_loss: 0.9166 - val_acc: 0.7066\n",
            "Epoch 11/20\n",
            "40000/40000 [==============================] - 160s 4ms/sample - loss: 0.6484 - acc: 0.7792 - val_loss: 0.8647 - val_acc: 0.7136\n",
            "Epoch 12/20\n",
            "40000/40000 [==============================] - 160s 4ms/sample - loss: 0.6305 - acc: 0.7850 - val_loss: 0.9034 - val_acc: 0.7147\n",
            "Epoch 13/20\n",
            "40000/40000 [==============================] - 161s 4ms/sample - loss: 0.6167 - acc: 0.7903 - val_loss: 0.9569 - val_acc: 0.7003\n",
            "Epoch 14/20\n",
            "40000/40000 [==============================] - 162s 4ms/sample - loss: 0.6084 - acc: 0.7937 - val_loss: 1.0005 - val_acc: 0.7117\n",
            "Epoch 15/20\n",
            "40000/40000 [==============================] - 161s 4ms/sample - loss: 0.6052 - acc: 0.7968 - val_loss: 0.8748 - val_acc: 0.7192\n",
            "Epoch 16/20\n",
            "40000/40000 [==============================] - 161s 4ms/sample - loss: 0.5987 - acc: 0.8008 - val_loss: 0.9029 - val_acc: 0.7105\n",
            "Epoch 17/20\n",
            "40000/40000 [==============================] - 161s 4ms/sample - loss: 0.5954 - acc: 0.8015 - val_loss: 1.0389 - val_acc: 0.7153\n",
            "Epoch 18/20\n",
            "40000/40000 [==============================] - 161s 4ms/sample - loss: 0.6078 - acc: 0.8021 - val_loss: 0.9057 - val_acc: 0.7310\n",
            "Epoch 19/20\n",
            "40000/40000 [==============================] - 161s 4ms/sample - loss: 0.6068 - acc: 0.8012 - val_loss: 1.0549 - val_acc: 0.6581\n",
            "Epoch 20/20\n",
            "40000/40000 [==============================] - 159s 4ms/sample - loss: 0.6095 - acc: 0.8018 - val_loss: 0.9469 - val_acc: 0.7216\n"
          ],
          "name": "stdout"
        },
        {
          "output_type": "execute_result",
          "data": {
            "text/plain": [
              "0.7980599880218506"
            ]
          },
          "metadata": {
            "tags": []
          },
          "execution_count": 10
        }
      ]
    },
    {
      "metadata": {
        "id": "CklseW80PVW4",
        "colab_type": "code",
        "colab": {
          "base_uri": "https://localhost:8080/",
          "height": 34
        },
        "outputId": "cdcca593-e2ea-4749-f716-baa956f7dd58"
      },
      "cell_type": "code",
      "source": [
        "val_acc = [0.7216, 0.6917, 0.7118, 0.676, 0.7086]\n",
        "print(\"Average validation accuracy for k-fold is %f\" % np.mean(val_acc))"
      ],
      "execution_count": 6,
      "outputs": [
        {
          "output_type": "stream",
          "text": [
            "Average validation accuracy for k-fold is 0.701940\n"
          ],
          "name": "stdout"
        }
      ]
    }
  ]
}