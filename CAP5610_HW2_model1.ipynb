{
  "nbformat": 4,
  "nbformat_minor": 0,
  "metadata": {
    "colab": {
      "name": "CAP5610_HW2_model1.ipynb",
      "version": "0.3.2",
      "provenance": [],
      "include_colab_link": true
    },
    "kernelspec": {
      "name": "python3",
      "display_name": "Python 3"
    }
  },
  "cells": [
    {
      "cell_type": "markdown",
      "metadata": {
        "id": "view-in-github",
        "colab_type": "text"
      },
      "source": [
        "<a href=\"https://colab.research.google.com/github/danielelbrecht/CAP5610-HW-2/blob/master/CAP5610_HW2_model1.ipynb\" target=\"_parent\"><img src=\"https://colab.research.google.com/assets/colab-badge.svg\" alt=\"Open In Colab\"/></a>"
      ]
    },
    {
      "metadata": {
        "id": "RFd7IMxgsSRZ",
        "colab_type": "text"
      },
      "cell_type": "markdown",
      "source": [
        "# Model # 1: Baseline model, 2 convolutional modules and 3 fully connected layers"
      ]
    },
    {
      "metadata": {
        "id": "NIghYaHyscqX",
        "colab_type": "code",
        "colab": {
          "base_uri": "https://localhost:8080/",
          "height": 34
        },
        "outputId": "c4a1c229-2f42-41f7-ef53-149947133955"
      },
      "cell_type": "code",
      "source": [
        "from keras.datasets import cifar10\n",
        "import numpy as np\n",
        "import sklearn\n",
        "import tensorflow as tf\n",
        "from tensorflow.keras import layers, utils"
      ],
      "execution_count": 1,
      "outputs": [
        {
          "output_type": "stream",
          "text": [
            "Using TensorFlow backend.\n"
          ],
          "name": "stderr"
        }
      ]
    },
    {
      "metadata": {
        "id": "tpRJ6RrHI9Oy",
        "colab_type": "code",
        "colab": {}
      },
      "cell_type": "code",
      "source": [
        "(train_images, train_labels), (test_images, test_labels) = cifar10.load_data()"
      ],
      "execution_count": 0,
      "outputs": []
    },
    {
      "metadata": {
        "id": "u64dxPRHJAJX",
        "colab_type": "code",
        "colab": {}
      },
      "cell_type": "code",
      "source": [
        "\n",
        "\n",
        "# Preprocess data\n",
        "train_images = train_images.reshape((50000, 32, 32, 3)) / 255.0\n",
        "test_images = test_images.reshape((10000, 32, 32, 3)) / 255.0\n",
        "\n",
        "train_labels_categorical = utils.to_categorical(train_labels, num_classes=10, dtype='float32')\n",
        "test_labels_categorical = utils.to_categorical(test_labels, num_classes=10, dtype='float32')\n",
        "\n",
        "# Implement simple holdout validation\n",
        "length = len(train_images)\n",
        "threshold = int(length * 0.8)\n",
        "\n",
        "train_set_images = train_images[0:threshold]\n",
        "train_set_labels = train_labels_categorical[0:threshold]\n",
        "\n",
        "val_set_images = train_images[threshold:length]\n",
        "val_set_labels = train_labels_categorical[threshold:length]\n"
      ],
      "execution_count": 0,
      "outputs": []
    },
    {
      "metadata": {
        "id": "L1-GSop-M6F9",
        "colab_type": "code",
        "outputId": "6ff78ee8-f2d3-4c3f-fdfb-705ab756d83e",
        "colab": {
          "base_uri": "https://localhost:8080/",
          "height": 476
        }
      },
      "cell_type": "code",
      "source": [
        "#Define hyperparameters\n",
        "learning_rate = 0.01\n",
        "\n",
        "#Define model\n",
        "\n",
        "model = tf.keras.Sequential()\n",
        "\n",
        "# First convolutional module\n",
        "model.add(layers.Conv2D(filters=64, kernel_size=(3,3), activation='relu', input_shape=(32,32,3)))\n",
        "model.add(layers.MaxPooling2D(pool_size=(2,2)))\n",
        "model.add(layers.Dropout(0.2))\n",
        "\n",
        "# Second convolutional module\n",
        "model.add(layers.Conv2D(filters=128, kernel_size=(3,3), activation='relu'))\n",
        "model.add(layers.MaxPooling2D(pool_size=(2,2)))\n",
        "model.add(layers.Dropout(0.2))\n",
        "\n",
        "\n",
        "# Fully connected layers\n",
        "model.add(layers.Flatten())\n",
        "model.add(layers.Dense(64, activation='relu'))\n",
        "model.add(layers.Dense(64, activation='relu'))\n",
        "model.add(layers.Dense(10, activation='softmax'))\n",
        "\n",
        "model.compile(optimizer='rmsprop',\n",
        "              loss='categorical_crossentropy',\n",
        "              metrics=['accuracy'])\n",
        "\n",
        "model.summary()\n",
        "\n",
        "\n"
      ],
      "execution_count": 6,
      "outputs": [
        {
          "output_type": "stream",
          "text": [
            "_________________________________________________________________\n",
            "Layer (type)                 Output Shape              Param #   \n",
            "=================================================================\n",
            "conv2d_2 (Conv2D)            (None, 30, 30, 64)        1792      \n",
            "_________________________________________________________________\n",
            "max_pooling2d_2 (MaxPooling2 (None, 15, 15, 64)        0         \n",
            "_________________________________________________________________\n",
            "dropout_2 (Dropout)          (None, 15, 15, 64)        0         \n",
            "_________________________________________________________________\n",
            "conv2d_3 (Conv2D)            (None, 13, 13, 128)       73856     \n",
            "_________________________________________________________________\n",
            "max_pooling2d_3 (MaxPooling2 (None, 6, 6, 128)         0         \n",
            "_________________________________________________________________\n",
            "dropout_3 (Dropout)          (None, 6, 6, 128)         0         \n",
            "_________________________________________________________________\n",
            "flatten_1 (Flatten)          (None, 4608)              0         \n",
            "_________________________________________________________________\n",
            "dense_3 (Dense)              (None, 64)                294976    \n",
            "_________________________________________________________________\n",
            "dense_4 (Dense)              (None, 64)                4160      \n",
            "_________________________________________________________________\n",
            "dense_5 (Dense)              (None, 10)                650       \n",
            "=================================================================\n",
            "Total params: 375,434\n",
            "Trainable params: 375,434\n",
            "Non-trainable params: 0\n",
            "_________________________________________________________________\n"
          ],
          "name": "stdout"
        }
      ]
    },
    {
      "metadata": {
        "id": "SJW_LV7iQKbT",
        "colab_type": "code",
        "outputId": "149e649e-24c3-4c6d-caaa-206b5a9961e7",
        "colab": {
          "base_uri": "https://localhost:8080/",
          "height": 714
        }
      },
      "cell_type": "code",
      "source": [
        "# Train model\n",
        "history = model.fit(train_set_images, \n",
        "                      train_set_labels, \n",
        "                      epochs=20,\n",
        "                      validation_data=(val_set_images, val_set_labels))"
      ],
      "execution_count": 7,
      "outputs": [
        {
          "output_type": "stream",
          "text": [
            "Train on 40000 samples, validate on 10000 samples\n",
            "Epoch 1/20\n",
            "40000/40000 [==============================] - 153s 4ms/sample - loss: 1.5787 - acc: 0.4296 - val_loss: 1.2798 - val_acc: 0.5537\n",
            "Epoch 2/20\n",
            "40000/40000 [==============================] - 153s 4ms/sample - loss: 1.1718 - acc: 0.5890 - val_loss: 1.0871 - val_acc: 0.6233\n",
            "Epoch 3/20\n",
            "40000/40000 [==============================] - 153s 4ms/sample - loss: 1.0272 - acc: 0.6397 - val_loss: 1.0058 - val_acc: 0.6584\n",
            "Epoch 4/20\n",
            "40000/40000 [==============================] - 153s 4ms/sample - loss: 0.9374 - acc: 0.6768 - val_loss: 0.8936 - val_acc: 0.6966\n",
            "Epoch 5/20\n",
            "40000/40000 [==============================] - 152s 4ms/sample - loss: 0.8725 - acc: 0.6997 - val_loss: 0.9040 - val_acc: 0.6856\n",
            "Epoch 6/20\n",
            "40000/40000 [==============================] - 154s 4ms/sample - loss: 0.8168 - acc: 0.7199 - val_loss: 0.8806 - val_acc: 0.6967\n",
            "Epoch 7/20\n",
            "40000/40000 [==============================] - 152s 4ms/sample - loss: 0.7691 - acc: 0.7367 - val_loss: 0.9106 - val_acc: 0.6931\n",
            "Epoch 8/20\n",
            "40000/40000 [==============================] - 153s 4ms/sample - loss: 0.7286 - acc: 0.7512 - val_loss: 0.8601 - val_acc: 0.7094\n",
            "Epoch 9/20\n",
            "40000/40000 [==============================] - 152s 4ms/sample - loss: 0.6981 - acc: 0.7584 - val_loss: 0.8817 - val_acc: 0.7055\n",
            "Epoch 10/20\n",
            "40000/40000 [==============================] - 153s 4ms/sample - loss: 0.6718 - acc: 0.7715 - val_loss: 0.9308 - val_acc: 0.6942\n",
            "Epoch 11/20\n",
            "40000/40000 [==============================] - 152s 4ms/sample - loss: 0.6492 - acc: 0.7760 - val_loss: 0.9408 - val_acc: 0.7012\n",
            "Epoch 12/20\n",
            "40000/40000 [==============================] - 152s 4ms/sample - loss: 0.6304 - acc: 0.7853 - val_loss: 0.9388 - val_acc: 0.7052\n",
            "Epoch 13/20\n",
            "40000/40000 [==============================] - 152s 4ms/sample - loss: 0.6135 - acc: 0.7913 - val_loss: 0.9156 - val_acc: 0.7028\n",
            "Epoch 14/20\n",
            "40000/40000 [==============================] - 152s 4ms/sample - loss: 0.6008 - acc: 0.7953 - val_loss: 0.9135 - val_acc: 0.7007\n",
            "Epoch 15/20\n",
            "40000/40000 [==============================] - 151s 4ms/sample - loss: 0.5935 - acc: 0.7997 - val_loss: 0.9704 - val_acc: 0.6948\n",
            "Epoch 16/20\n",
            "40000/40000 [==============================] - 152s 4ms/sample - loss: 0.5813 - acc: 0.8041 - val_loss: 0.9362 - val_acc: 0.7018\n",
            "Epoch 17/20\n",
            "40000/40000 [==============================] - 152s 4ms/sample - loss: 0.5742 - acc: 0.8079 - val_loss: 0.9571 - val_acc: 0.7259\n",
            "Epoch 18/20\n",
            "40000/40000 [==============================] - 153s 4ms/sample - loss: 0.5774 - acc: 0.8062 - val_loss: 0.9564 - val_acc: 0.7252\n",
            "Epoch 19/20\n",
            "40000/40000 [==============================] - 152s 4ms/sample - loss: 0.5744 - acc: 0.8083 - val_loss: 0.9689 - val_acc: 0.7092\n",
            "Epoch 20/20\n",
            "40000/40000 [==============================] - 153s 4ms/sample - loss: 0.5791 - acc: 0.8090 - val_loss: 0.9958 - val_acc: 0.6788\n"
          ],
          "name": "stdout"
        }
      ]
    },
    {
      "metadata": {
        "id": "iMTxSQ1xZm48",
        "colab_type": "code",
        "colab": {
          "base_uri": "https://localhost:8080/",
          "height": 54
        },
        "outputId": "e07281f4-cee7-427d-aa9b-a26a2fe3c122"
      },
      "cell_type": "code",
      "source": [
        "history\n",
        "print(history.history['val_acc'])"
      ],
      "execution_count": 13,
      "outputs": [
        {
          "output_type": "stream",
          "text": [
            "[0.5537, 0.6233, 0.6584, 0.6966, 0.6856, 0.6967, 0.6931, 0.7094, 0.7055, 0.6942, 0.7012, 0.7052, 0.7028, 0.7007, 0.6948, 0.7018, 0.7259, 0.7252, 0.7092, 0.6788]\n"
          ],
          "name": "stdout"
        }
      ]
    },
    {
      "metadata": {
        "id": "ODjp6bQOaC-c",
        "colab_type": "code",
        "colab": {
          "base_uri": "https://localhost:8080/",
          "height": 376
        },
        "outputId": "8c209aa4-dda4-41ea-9524-1cebb3b2937f"
      },
      "cell_type": "code",
      "source": [
        "#plot results\n",
        "import matplotlib as mpl\n",
        "import matplotlib.pyplot as plt\n",
        "\n",
        "epoch = []\n",
        "for i in range(20):\n",
        "  epoch.append(i+1)\n",
        "  \n",
        "plt.plot(epoch, history.history['val_acc'])\n",
        "plt.xlabel(\"# of epochs\")\n",
        "plt.ylabel(\"Accuracy\")\n",
        "plt.title(\"Validation accuracy for model 1\")\n",
        "plt.show()\n",
        "  "
      ],
      "execution_count": 16,
      "outputs": [
        {
          "output_type": "display_data",
          "data": {
            "image/png": "[encoded data removed]",
            "text/plain": [
              "<Figure size 576x396 with 1 Axes>"
            ]
          },
          "metadata": {
            "tags": []
          }
        }
      ]
    }
  ]
}