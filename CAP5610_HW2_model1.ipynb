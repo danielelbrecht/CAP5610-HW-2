{
  "nbformat": 4,
  "nbformat_minor": 0,
  "metadata": {
    "colab": {
      "name": "CAP5610_HW2_model1.ipynb",
      "version": "0.3.2",
      "provenance": [],
      "include_colab_link": true
    },
    "kernelspec": {
      "name": "python3",
      "display_name": "Python 3"
    }
  },
  "cells": [
    {
      "cell_type": "markdown",
      "metadata": {
        "id": "view-in-github",
        "colab_type": "text"
      },
      "source": [
        "<a href=\"https://colab.research.google.com/github/danielelbrecht/CAP5610-HW-2/blob/master/CAP5610_HW2_model1.ipynb\" target=\"_parent\"><img src=\"https://colab.research.google.com/assets/colab-badge.svg\" alt=\"Open In Colab\"/></a>"
      ]
    },
    {
      "metadata": {
        "id": "ADMB67BwIw8E",
        "colab_type": "code",
        "colab": {}
      },
      "cell_type": "code",
      "source": [
        "from keras.datasets import cifar10\n",
        "import numpy as np\n",
        "import sklearn\n",
        "import tensorflow as tf\n",
        "from tensorflow.keras import layers, utils"
      ],
      "execution_count": 0,
      "outputs": []
    },
    {
      "metadata": {
        "id": "tpRJ6RrHI9Oy",
        "colab_type": "code",
        "colab": {}
      },
      "cell_type": "code",
      "source": [
        "(train_images, train_labels), (test_images, test_labels) = cifar10.load_data()"
      ],
      "execution_count": 0,
      "outputs": []
    },
    {
      "metadata": {
        "id": "u64dxPRHJAJX",
        "colab_type": "code",
        "colab": {
          "base_uri": "https://localhost:8080/",
          "height": 51
        },
        "outputId": "73c57e3b-5cab-4a6d-da45-7b2dbf9a933c"
      },
      "cell_type": "code",
      "source": [
        "test_images.shape\n",
        "\n",
        "# Preprocess data\n",
        "train_images = train_images.reshape((50000, 32, 32, 3)) / 255.0\n",
        "test_images = test_images.reshape((10000, 32, 32, 3)) / 255.0\n",
        "\n",
        "train_labels_categorical = utils.to_categorical(train_labels, num_classes=10, dtype='float32')\n",
        "test_labels_categorical = utils.to_categorical(test_labels, num_classes=10, dtype='float32')\n",
        "\n",
        "# Implement simple holdout validation\n",
        "length = len(train_images)\n",
        "threshold = int(length * 0.8)\n",
        "\n",
        "train_set_images = train_images[0:threshold]\n",
        "train_set_labels = train_labels_categorical[0:threshold]\n",
        "\n",
        "val_set_images = train_images[threshold:length]\n",
        "val_set_labels = train_labels_categorical[threshold:length]\n",
        "\n",
        "print(len(train_set_images))\n",
        "print(len(val_set_images))"
      ],
      "execution_count": 22,
      "outputs": [
        {
          "output_type": "stream",
          "text": [
            "40000\n",
            "10000\n"
          ],
          "name": "stdout"
        }
      ]
    },
    {
      "metadata": {
        "id": "L1-GSop-M6F9",
        "colab_type": "code",
        "outputId": "68a508dd-ec65-473f-b83b-230d3c2da2a8",
        "colab": {
          "base_uri": "https://localhost:8080/",
          "height": 476
        }
      },
      "cell_type": "code",
      "source": [
        "#Define hyperparameters\n",
        "learning_rate = 0.01\n",
        "\n",
        "#Define model\n",
        "\n",
        "model = tf.keras.Sequential()\n",
        "\n",
        "# First convolutional module\n",
        "model.add(layers.Conv2D(filters=64, kernel_size=(3,3), activation='relu', input_shape=(32,32,3)))\n",
        "model.add(layers.MaxPooling2D(pool_size=(2,2)))\n",
        "model.add(layers.Dropout(0.2))\n",
        "\n",
        "# Second convolutional module\n",
        "model.add(layers.Conv2D(filters=128, kernel_size=(3,3), activation='relu'))\n",
        "model.add(layers.MaxPooling2D(pool_size=(2,2)))\n",
        "model.add(layers.Dropout(0.2))\n",
        "\n",
        "\n",
        "# Fully connected layers\n",
        "model.add(layers.Flatten())\n",
        "model.add(layers.Dense(64, activation='relu'))\n",
        "model.add(layers.Dense(64, activation='relu'))\n",
        "model.add(layers.Dense(10, activation='softmax'))\n",
        "\n",
        "model.compile(optimizer='rmsprop',\n",
        "              loss='categorical_crossentropy',\n",
        "              metrics=['accuracy'])\n",
        "\n",
        "model.summary()\n",
        "\n",
        "\n"
      ],
      "execution_count": 23,
      "outputs": [
        {
          "output_type": "stream",
          "text": [
            "_________________________________________________________________\n",
            "Layer (type)                 Output Shape              Param #   \n",
            "=================================================================\n",
            "conv2d_18 (Conv2D)           (None, 30, 30, 64)        1792      \n",
            "_________________________________________________________________\n",
            "max_pooling2d_18 (MaxPooling (None, 15, 15, 64)        0         \n",
            "_________________________________________________________________\n",
            "dropout_18 (Dropout)         (None, 15, 15, 64)        0         \n",
            "_________________________________________________________________\n",
            "conv2d_19 (Conv2D)           (None, 13, 13, 128)       73856     \n",
            "_________________________________________________________________\n",
            "max_pooling2d_19 (MaxPooling (None, 6, 6, 128)         0         \n",
            "_________________________________________________________________\n",
            "dropout_19 (Dropout)         (None, 6, 6, 128)         0         \n",
            "_________________________________________________________________\n",
            "flatten_8 (Flatten)          (None, 4608)              0         \n",
            "_________________________________________________________________\n",
            "dense_24 (Dense)             (None, 64)                294976    \n",
            "_________________________________________________________________\n",
            "dense_25 (Dense)             (None, 64)                4160      \n",
            "_________________________________________________________________\n",
            "dense_26 (Dense)             (None, 10)                650       \n",
            "=================================================================\n",
            "Total params: 375,434\n",
            "Trainable params: 375,434\n",
            "Non-trainable params: 0\n",
            "_________________________________________________________________\n"
          ],
          "name": "stdout"
        }
      ]
    },
    {
      "metadata": {
        "id": "SJW_LV7iQKbT",
        "colab_type": "code",
        "outputId": "8b195b40-b47f-4bc8-dfc9-fd34bf58aa35",
        "colab": {
          "base_uri": "https://localhost:8080/",
          "height": 374
        }
      },
      "cell_type": "code",
      "source": [
        "# Train model\n",
        "history = model.fit(train_set_images, \n",
        "                      train_set_labels, \n",
        "                      epochs=10,\n",
        "                      validation_data=(val_set_images, val_set_labels))"
      ],
      "execution_count": 24,
      "outputs": [
        {
          "output_type": "stream",
          "text": [
            "Train on 40000 samples, validate on 10000 samples\n",
            "Epoch 1/10\n",
            "40000/40000 [==============================] - 153s 4ms/sample - loss: 1.5781 - acc: 0.4283 - val_loss: 1.3864 - val_acc: 0.5174\n",
            "Epoch 2/10\n",
            "40000/40000 [==============================] - 150s 4ms/sample - loss: 1.1619 - acc: 0.5915 - val_loss: 1.0652 - val_acc: 0.6321\n",
            "Epoch 3/10\n",
            "40000/40000 [==============================] - 150s 4ms/sample - loss: 1.0153 - acc: 0.6492 - val_loss: 0.9831 - val_acc: 0.6635\n",
            "Epoch 4/10\n",
            "40000/40000 [==============================] - 151s 4ms/sample - loss: 0.9199 - acc: 0.6799 - val_loss: 0.9428 - val_acc: 0.6727\n",
            "Epoch 5/10\n",
            "40000/40000 [==============================] - 151s 4ms/sample - loss: 0.8525 - acc: 0.7042 - val_loss: 0.8732 - val_acc: 0.7082\n",
            "Epoch 6/10\n",
            "40000/40000 [==============================] - 149s 4ms/sample - loss: 0.7908 - acc: 0.7255 - val_loss: 0.9810 - val_acc: 0.6664\n",
            "Epoch 7/10\n",
            "40000/40000 [==============================] - 149s 4ms/sample - loss: 0.7498 - acc: 0.7401 - val_loss: 0.9040 - val_acc: 0.6890\n",
            "Epoch 8/10\n",
            "40000/40000 [==============================] - 149s 4ms/sample - loss: 0.7161 - acc: 0.7555 - val_loss: 0.9056 - val_acc: 0.7054\n",
            "Epoch 9/10\n",
            "40000/40000 [==============================] - 148s 4ms/sample - loss: 0.6896 - acc: 0.7636 - val_loss: 1.0203 - val_acc: 0.6824\n",
            "Epoch 10/10\n",
            "40000/40000 [==============================] - 148s 4ms/sample - loss: 0.6676 - acc: 0.7700 - val_loss: 0.9390 - val_acc: 0.6934\n"
          ],
          "name": "stdout"
        }
      ]
    }
  ]
}